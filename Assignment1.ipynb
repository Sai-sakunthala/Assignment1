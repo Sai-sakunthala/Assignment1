{
  "nbformat": 4,
  "nbformat_minor": 0,
  "metadata": {
    "colab": {
      "provenance": [],
      "authorship_tag": "ABX9TyMfdoeuOXIdXZyt+cIQ46Ys",
      "include_colab_link": true
    },
    "kernelspec": {
      "name": "python3",
      "display_name": "Python 3"
    },
    "language_info": {
      "name": "python"
    }
  },
  "cells": [
    {
      "cell_type": "markdown",
      "metadata": {
        "id": "view-in-github",
        "colab_type": "text"
      },
      "source": [
        "<a href=\"https://colab.research.google.com/github/Sai-sakunthala/Assignment1/blob/main/Assignment1.ipynb\" target=\"_parent\"><img src=\"https://colab.research.google.com/assets/colab-badge.svg\" alt=\"Open In Colab\"/></a>"
      ]
    },
    {
      "cell_type": "code",
      "source": [
        "!wandb login"
      ],
      "metadata": {
        "colab": {
          "base_uri": "https://localhost:8080/"
        },
        "id": "7OfhhFzd8a47",
        "outputId": "6d2a9c2f-ec3f-468f-f16a-0409a5fb3d7f"
      },
      "execution_count": null,
      "outputs": [
        {
          "output_type": "stream",
          "name": "stdout",
          "text": [
            "\u001b[34m\u001b[1mwandb\u001b[0m: Logging into wandb.ai. (Learn how to deploy a W&B server locally: https://wandb.me/wandb-server)\n",
            "\u001b[34m\u001b[1mwandb\u001b[0m: You can find your API key in your browser here: https://wandb.ai/authorize\n",
            "\u001b[34m\u001b[1mwandb\u001b[0m: Paste an API key from your profile and hit enter, or press ctrl+c to quit: \n",
            "\u001b[34m\u001b[1mwandb\u001b[0m: No netrc file found, creating one.\n",
            "\u001b[34m\u001b[1mwandb\u001b[0m: Appending key for api.wandb.ai to your netrc file: /root/.netrc\n",
            "\u001b[34m\u001b[1mwandb\u001b[0m: Currently logged in as: \u001b[33msai-sakunthala\u001b[0m (\u001b[33msai-sakunthala-indian-institute-of-technology-madras\u001b[0m) to \u001b[32mhttps://api.wandb.ai\u001b[0m. Use \u001b[1m`wandb login --relogin`\u001b[0m to force relogin\n"
          ]
        }
      ]
    },
    {
      "cell_type": "code",
      "execution_count": 1,
      "metadata": {
        "id": "M3h6nZ382Jmo"
      },
      "outputs": [],
      "source": [
        "from keras.datasets import fashion_mnist\n",
        "#import wandb\n",
        "import numpy as np\n",
        "import math\n",
        "import random"
      ]
    },
    {
      "cell_type": "code",
      "source": [
        "wandb.init(\n",
        "    # set the wandb project where this run will be logged\n",
        "    project=\"Fashion-mnist\", name = \"Images\")"
      ],
      "metadata": {
        "colab": {
          "base_uri": "https://localhost:8080/",
          "height": 162
        },
        "id": "XrdilZm-8mPG",
        "outputId": "13c25879-c344-4299-e1f5-64486b9f10cf"
      },
      "execution_count": null,
      "outputs": [
        {
          "output_type": "stream",
          "name": "stderr",
          "text": [
            "\u001b[34m\u001b[1mwandb\u001b[0m: Currently logged in as: \u001b[33msai-sakunthala\u001b[0m (\u001b[33msai-sakunthala-indian-institute-of-technology-madras\u001b[0m) to \u001b[32mhttps://api.wandb.ai\u001b[0m. Use \u001b[1m`wandb login --relogin`\u001b[0m to force relogin\n",
            "\u001b[34m\u001b[1mwandb\u001b[0m: Using wandb-core as the SDK backend.  Please refer to https://wandb.me/wandb-core for more information.\n"
          ]
        },
        {
          "output_type": "display_data",
          "data": {
            "text/plain": [
              "<IPython.core.display.HTML object>"
            ],
            "text/html": [
              "Tracking run with wandb version 0.19.6"
            ]
          },
          "metadata": {}
        },
        {
          "output_type": "display_data",
          "data": {
            "text/plain": [
              "<IPython.core.display.HTML object>"
            ],
            "text/html": [
              "Run data is saved locally in <code>/content/wandb/run-20250222_162139-8o75r7iv</code>"
            ]
          },
          "metadata": {}
        },
        {
          "output_type": "display_data",
          "data": {
            "text/plain": [
              "<IPython.core.display.HTML object>"
            ],
            "text/html": [
              "Syncing run <strong><a href='https://wandb.ai/sai-sakunthala-indian-institute-of-technology-madras/Fashion-mnist/runs/8o75r7iv' target=\"_blank\">Images</a></strong> to <a href='https://wandb.ai/sai-sakunthala-indian-institute-of-technology-madras/Fashion-mnist' target=\"_blank\">Weights & Biases</a> (<a href='https://wandb.me/developer-guide' target=\"_blank\">docs</a>)<br>"
            ]
          },
          "metadata": {}
        },
        {
          "output_type": "display_data",
          "data": {
            "text/plain": [
              "<IPython.core.display.HTML object>"
            ],
            "text/html": [
              " View project at <a href='https://wandb.ai/sai-sakunthala-indian-institute-of-technology-madras/Fashion-mnist' target=\"_blank\">https://wandb.ai/sai-sakunthala-indian-institute-of-technology-madras/Fashion-mnist</a>"
            ]
          },
          "metadata": {}
        },
        {
          "output_type": "display_data",
          "data": {
            "text/plain": [
              "<IPython.core.display.HTML object>"
            ],
            "text/html": [
              " View run at <a href='https://wandb.ai/sai-sakunthala-indian-institute-of-technology-madras/Fashion-mnist/runs/8o75r7iv' target=\"_blank\">https://wandb.ai/sai-sakunthala-indian-institute-of-technology-madras/Fashion-mnist/runs/8o75r7iv</a>"
            ]
          },
          "metadata": {}
        },
        {
          "output_type": "execute_result",
          "data": {
            "text/html": [
              "<button onClick=\"this.nextSibling.style.display='block';this.style.display='none';\">Display W&B run</button><iframe src='https://wandb.ai/sai-sakunthala-indian-institute-of-technology-madras/Fashion-mnist/runs/8o75r7iv?jupyter=true' style='border:none;width:100%;height:420px;display:none;'></iframe>"
            ],
            "text/plain": [
              "<wandb.sdk.wandb_run.Run at 0x7bd89eeeafd0>"
            ]
          },
          "metadata": {},
          "execution_count": 3
        }
      ]
    },
    {
      "cell_type": "code",
      "source": [
        "(x_train, y_train), (x_test, y_test) = fashion_mnist.load_data()\n",
        "class_names = ['Tshirt', 'Trouser', 'Pullover', 'Dress', 'Coat', 'Sandal', 'Shirt', 'Sneaker', 'bag', 'Ankleboot']\n",
        "\n",
        "one_per_label = {}\n",
        "for image,label in zip(x_train,y_train):\n",
        "    if label not in one_per_label:\n",
        "        one_per_label[label] = image"
      ],
      "metadata": {
        "colab": {
          "base_uri": "https://localhost:8080/"
        },
        "id": "Qjo5eR2QdyIn",
        "outputId": "576e8e5e-d020-4122-8d8e-a892a6c38835"
      },
      "execution_count": 2,
      "outputs": [
        {
          "output_type": "stream",
          "name": "stdout",
          "text": [
            "Downloading data from https://storage.googleapis.com/tensorflow/tf-keras-datasets/train-labels-idx1-ubyte.gz\n",
            "\u001b[1m29515/29515\u001b[0m \u001b[32m━━━━━━━━━━━━━━━━━━━━\u001b[0m\u001b[37m\u001b[0m \u001b[1m0s\u001b[0m 0us/step\n",
            "Downloading data from https://storage.googleapis.com/tensorflow/tf-keras-datasets/train-images-idx3-ubyte.gz\n",
            "\u001b[1m26421880/26421880\u001b[0m \u001b[32m━━━━━━━━━━━━━━━━━━━━\u001b[0m\u001b[37m\u001b[0m \u001b[1m0s\u001b[0m 0us/step\n",
            "Downloading data from https://storage.googleapis.com/tensorflow/tf-keras-datasets/t10k-labels-idx1-ubyte.gz\n",
            "\u001b[1m5148/5148\u001b[0m \u001b[32m━━━━━━━━━━━━━━━━━━━━\u001b[0m\u001b[37m\u001b[0m \u001b[1m0s\u001b[0m 0us/step\n",
            "Downloading data from https://storage.googleapis.com/tensorflow/tf-keras-datasets/t10k-images-idx3-ubyte.gz\n",
            "\u001b[1m4422102/4422102\u001b[0m \u001b[32m━━━━━━━━━━━━━━━━━━━━\u001b[0m\u001b[37m\u001b[0m \u001b[1m0s\u001b[0m 0us/step\n"
          ]
        }
      ]
    },
    {
      "cell_type": "code",
      "source": [
        "for label, image in one_per_label.items():\n",
        "    wandb.log({\"Images\": [wandb.Image(image, caption=class_names[label])]})"
      ],
      "metadata": {
        "id": "VlCiVcmL9kCR"
      },
      "execution_count": null,
      "outputs": []
    },
    {
      "cell_type": "code",
      "source": [
        "def input_layer(x):\n",
        "    x = np.array(x)\n",
        "    if len(x.shape) == 3:\n",
        "        a,b,c = x.shape\n",
        "        x = x.reshape(a,b*c)\n",
        "    return x\n",
        "\n",
        "def sigmoid(a_x):\n",
        "    h_x = np.zeros(len(a_x))\n",
        "    for i in range(len(a_x)):\n",
        "        h_x[i] = 1/(1+math.exp(-a_x[i]))\n",
        "    return h_x\n",
        "\n",
        "def der_sigmoid(a_x):\n",
        "    del_sig = np.zeros(len(a_x))\n",
        "    for i in range(len(a_x)):\n",
        "        del_sig[i] = a_x[i]*(1-a_x[i])\n",
        "    return del_sig\n",
        "\n",
        "def Relu(a_x):\n",
        "    h_x = np.zeros(len(a_x))\n",
        "    for i in range(len(a_x)):\n",
        "        h_x[i] = max(0,a_x[i])\n",
        "    return h_x\n",
        "\n",
        "def der_Relu(a_x):\n",
        "    del_Relu = np.zeros(len(a_x))\n",
        "    for i in range(len(a_x)):\n",
        "        if a_x[i] > 0:\n",
        "            del_Relu[i] = a_x[i]\n",
        "        else:\n",
        "            del_Relu[i] = 0\n",
        "    return del_Relu\n",
        "\n",
        "def tanh(a_x):\n",
        "    h_x = np.zeros(len(a_x))\n",
        "    for i in range(len(a_x)):\n",
        "        h_x[i] = (math.exp(a_x[i]) - math.exp(-a_x[i]))/(math.exp(a_x[i]) + math.exp(-a_x[i]))\n",
        "    return h_x\n",
        "\n",
        "def der_tanh(a_x):\n",
        "    del_tanh = np.zeros(len(a_x))\n",
        "    for i in range(len(a_x)):\n",
        "        del_tanh[i] = 1 - [(math.exp(a_x[i]) - math.exp(-a_x[i]))/(math.exp(a_x[i]) + math.exp(-a_x[i]))]**2\n",
        "    return del_tanh\n",
        "\n",
        "def softmax(a_x):\n",
        "    h_x = np.zeros(len(a_x))\n",
        "    for i in range(len(a_x)):\n",
        "        h_x[i] = math.exp(a_x[i])\n",
        "    h_x = h_x/np.sum(h_x)\n",
        "    return h_x\n",
        "\n",
        "def der_softmax(a_x):\n",
        "    del_softmax = np.zeros(len(a_x))\n",
        "    for i in range(len(a_x)):\n",
        "        del_softmax[i] = a_x[i]*(1-a_x[i])\n",
        "\n",
        "def initialize_weights(num_neurons):\n",
        "    weights = []\n",
        "    biases = []\n",
        "    for i in range(len(num_neurons)-1):\n",
        "        W = np.random.randn(num_neurons[i+1], num_neurons[i])\n",
        "        b = np.random.randn(1, num_neurons[i+1])\n",
        "        weights.append(W)\n",
        "        biases.append(b)\n",
        "    return weights, biases\n",
        "\n",
        "def pre_activation(h_x, W, b):\n",
        "    a_x = np.dot(W, h_x.T) + b\n",
        "    a_x = a_x.reshape(len(a_x[0]))\n",
        "    return a_x\n",
        "\n",
        "def bce_loss_function(h_x, y):\n",
        "    idx = np.where(y == 1)\n",
        "    loss = -np.log(h_x[idx])\n",
        "    return loss\n",
        "\n",
        "def mse_loss_function(h_x, y):\n",
        "    loss = (h_x - y)**2\n",
        "    return loss\n",
        "\n",
        "def forward_pass(x, y, weights, biases, activation_func, n_hidden, loss_function):\n",
        "    activations = []\n",
        "    pre_activations = []\n",
        "    for i in range(n_hidden+1):\n",
        "        if i == 0:\n",
        "            a_x = pre_activation(x, weights[i], biases[i])\n",
        "            h_x = activation_func(a_x)\n",
        "            activations.append(h_x)\n",
        "            pre_activations.append(a_x)\n",
        "        elif i == n_hidden:\n",
        "            a_x = pre_activation(h_x, weights[i], biases[i])\n",
        "            h_x = softmax(a_x)\n",
        "            activations.append(h_x)\n",
        "            pre_activations.append(a_x)\n",
        "        else:\n",
        "            a_x = pre_activation(h_x, weights[i], biases[i])\n",
        "            h_x = activation_func(a_x)\n",
        "            activations.append(h_x)\n",
        "            pre_activations.append(a_x)\n",
        "    loss = loss_function(h_x, y)\n",
        "    return activations, pre_activations, loss\n",
        "\n",
        "#a,b,_ = forward_pass(np.array([1,1]), np.array([0]), initialize_weights([2,3,3,2])[0], initialize_weights([2,3,3,2])[1], tanh, 2)\n",
        "\n",
        "def one_hot_encode(y, num_classes):\n",
        "    return np.eye(num_classes)[y]\n",
        "\n",
        "def back_propagation(activations, pre_activations, weights, biases, y, y_hat, n_hidden, activation_deriv, loss_function):\n",
        "    del_L_a = {}\n",
        "    del_L_w = {}\n",
        "    del_L_b = {}\n",
        "    del_L_h = {}\n",
        "    for i in range(n_hidden, -1, -1):\n",
        "        if i == n_hidden:\n",
        "            if loss_function == bce_loss_function:\n",
        "                del_L_a[i] = -(y - y_hat)\n",
        "        del_L_w[i] = np.outer(del_L_a[i], activations[i-1].T)\n",
        "        del_L_b[i] = del_L_a[i]\n",
        "        if i == 0:\n",
        "            break\n",
        "        del_L_h[i-1] = np.matmul(weights[i].T, del_L_a[i])\n",
        "        del_L_a[i-1] = np.multiply(del_L_h[i-1], activation_deriv(pre_activations[i-1]))\n",
        "    return del_L_w, del_L_b\n",
        "\n",
        "def gradient_descent(dw, db, weights, biases, learning_rate):\n",
        "    for i in range(len(weights)):\n",
        "        weights[i] = weights[i] - learning_rate*dw[i]\n",
        "        biases[i] = biases[i] - learning_rate*db[i]\n",
        "    return weights, biases\n",
        "\n",
        "def momentum_gradient(dw, db, weights, biases, learning_rate, beta, prev_u_w, prev_u_b):\n",
        "    u_w = {}\n",
        "    u_b = {}\n",
        "    for i in range(len(weights)):\n",
        "        if prev_u_w == {} and prev_u_b == {}:\n",
        "            u_w[i] = learning_rate*dw[i]\n",
        "            u_b[i] = learning_rate*db[i]\n",
        "        else:\n",
        "            u_w[i] = beta*prev_u_w[i] + learning_rate*dw[i]\n",
        "            u_b[i] = beta*prev_u_b[i] + learning_rate*db[i]\n",
        "        weights[i] = weights[i] - u_w[i]\n",
        "        biases[i] = biases[i] - u_b[i]\n",
        "    prev_u_w = u_w\n",
        "    prev_u_b = u_b\n",
        "    return weights, biases, prev_u_w, prev_u_b\n",
        "\n",
        "def nestrov_gradient(dw, db, weights, biases, learning_rate, beta, prev_u_w, prev_u_b):\n",
        "    u_w = {}\n",
        "    u_b = {}\n",
        "    for i in range(len(weights)):\n",
        "        if prev_u_w == {} and prev_u_b == {}:\n",
        "            u_w[i] = learning_rate*dw[i]\n",
        "            u_b[i] = learning_rate*db[i]\n",
        "        else:\n",
        "            u_w[i] = beta*prev_u_w[i] + learning_rate*dw[i]\n",
        "            u_b[i] = beta*prev_u_b[i] + learning_rate*db[i]\n",
        "        weights[i] = weights[i] - u_w[i]\n",
        "        biases[i] = biases[i] - u_b[i]\n",
        "    prev_u_w = u_w\n",
        "    prev_u_b = u_b\n",
        "    return weights, biases, prev_u_w, prev_u_b\n",
        "\n",
        "def Neuralnet(x_train, y_train, n_hidden, n_neurons_hidden, epochs, batch_size, activation, optimization, learning_rate, weight_decay, loss_function):\n",
        "    x_train = input_layer(x_train)\n",
        "    y_train = one_hot_encode(y_train, len(np.unique(y_train)))\n",
        "    features = x_train.shape[1]\n",
        "    classes = len(np.unique(y_train))\n",
        "    num_neurons = [features] + [n_neurons_hidden]*(n_hidden) + [classes]\n",
        "    weights, biases = initialize_weights(num_neurons)\n",
        "    activation_func = {\"sigmoid\": sigmoid, \"tanh\": tanh, \"relu\": Relu}[activation]\n",
        "    activation_deriv = {\"sigmoid\": der_sigmoid, \"tanh\": der_tanh, \"relu\": der_Relu}[activation]\n",
        "    optimization_func = {\"momentum\": momentum_gradient, \"sgd\": gradient_descent, \"nestrov\": nestrov_gradient}[optimization]\n",
        "    loss_function = {\"bce\": bce_loss_function, 'mse': mse_loss_function}[loss_function]\n",
        "    #epochs\n",
        "    if optimization_func == gradient_descent:\n",
        "        for epoch in range(epochs):\n",
        "            for i in range(0, len(x_train), batch_size):\n",
        "                x_batch = x_train[i:i + batch_size]\n",
        "                y_batch = y_train[i:i + batch_size]\n",
        "                dw = {}\n",
        "                db = {}\n",
        "                for x,y in zip(x_batch,y_batch):\n",
        "                    activations, pre_activations, loss = forward_pass(x, y, weights, biases, activation_func, n_hidden, loss_function)\n",
        "                    del_L_w, del_L_b = back_propagation(activations, pre_activations, weights, biases, y, activations[-1], n_hidden, activation_deriv, loss_function)\n",
        "                    for key,value in del_L_w.items():\n",
        "                        if key not in dw:\n",
        "                            dw[key] = value\n",
        "                        else:\n",
        "                            dw[key] = dw[key] + value\n",
        "                    for key,value in del_L_b.items():\n",
        "                        if key not in db:\n",
        "                            db[key] = value\n",
        "                        else:\n",
        "                            db[key] = db[key] + value\n",
        "                weights, biases = optimization_func(dw, db, weights, biases, learning_rate)\n",
        "    elif optimization_func == momentum_gradient:\n",
        "        prev_u_w = {}\n",
        "        prev_u_b = {}\n",
        "        for epoch in range(epochs):\n",
        "            for i in range(0, len(x_train), batch_size):\n",
        "                x_batch = x_train[i:i + batch_size]\n",
        "                y_batch = y_train[i:i + batch_size]\n",
        "                dw = {}\n",
        "                db = {}\n",
        "                for x,y in zip(x_batch,y_batch):\n",
        "                    activations, pre_activations, loss = forward_pass(x, y, weights, biases, activation_func, n_hidden, loss_function)\n",
        "                    del_L_w, del_L_b = back_propagation(activations, pre_activations, weights, biases, y, activations[-1], n_hidden, activation_deriv, loss_function)\n",
        "                    for key,value in del_L_w.items():\n",
        "                        if key not in dw:\n",
        "                            dw[key] = value\n",
        "                        else:\n",
        "                            dw[key] = dw[key] + value\n",
        "                    for key,value in del_L_b.items():\n",
        "                        if key not in db:\n",
        "                            db[key] = value\n",
        "                        else:\n",
        "                            db[key] = db[key] + value\n",
        "                weights, biases, prev_u_w, prev_u_b = optimization_func(dw, db, weights, biases, learning_rate, weight_decay, prev_u_w, prev_u_b)\n",
        "    elif optimization_func == nestrov_gradient:\n",
        "        prev_u_w = {}\n",
        "        prev_u_b = {}\n",
        "        for epoch in range(epochs):\n",
        "            for i in range(0, len(x_train), batch_size):\n",
        "                x_batch = x_train[i:i + batch_size]\n",
        "                y_batch = y_train[i:i + batch_size]\n",
        "                dw = {}\n",
        "                db = {}\n",
        "                for x,y in zip(x_batch,y_batch):\n",
        "                    activations, pre_activations, loss = forward_pass(x, y, weights, biases, activation_func, n_hidden, loss_function)\n",
        "                    if i == 0:\n",
        "                        del_L_w, del_L_b = back_propagation(activations, pre_activations, weights, biases, y, activations[-1], n_hidden, activation_deriv, loss_function)\n",
        "                    else:\n",
        "                        look_ahead_weights = {key: weights[key] - weight_decay*prev_u_w[key] for key in range(len(weights))}\n",
        "                        look_ahead_biases = {key: biases[key] - weight_decay*prev_u_b[key] for key in range(len(weights))}\n",
        "                        del_L_w, del_L_b = back_propagation(activations, pre_activations, look_ahead_weights, look_ahead_biases, y, activations[-1], n_hidden, activation_deriv, loss_function)\n",
        "                    for key,value in del_L_w.items():\n",
        "                        if key not in dw:\n",
        "                            dw[key] = value\n",
        "                        else:\n",
        "                            dw[key] = dw[key] + value\n",
        "                    for key,value in del_L_b.items():\n",
        "                        if key not in db:\n",
        "                            db[key] = value\n",
        "                        else:\n",
        "                            db[key] = db[key] + value\n",
        "                weights, biases, prev_u_w, prev_u_b = optimization_func(dw, db, weights, biases, learning_rate, weight_decay, prev_u_w, prev_u_b)\n",
        "\n",
        "Neuralnet(np.array([[1,1],[0,0],[1,1],[2,2]]), np.array([0,1,0,1]), 2, 3, 1, 2, 'sigmoid', 'momentum', 0.01, 0.9, 'bce')"
      ],
      "metadata": {
        "id": "mNcj8hC1URDj"
      },
      "execution_count": 18,
      "outputs": []
    }
  ]
}