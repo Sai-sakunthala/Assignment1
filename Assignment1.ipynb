{
  "nbformat": 4,
  "nbformat_minor": 0,
  "metadata": {
    "colab": {
      "provenance": [],
      "authorship_tag": "ABX9TyOi91tRVMLslUPKdYdhvvxG",
      "include_colab_link": true
    },
    "kernelspec": {
      "name": "python3",
      "display_name": "Python 3"
    },
    "language_info": {
      "name": "python"
    }
  },
  "cells": [
    {
      "cell_type": "markdown",
      "metadata": {
        "id": "view-in-github",
        "colab_type": "text"
      },
      "source": [
        "<a href=\"https://colab.research.google.com/github/Sai-sakunthala/Assignment1/blob/main/Assignment1.ipynb\" target=\"_parent\"><img src=\"https://colab.research.google.com/assets/colab-badge.svg\" alt=\"Open In Colab\"/></a>"
      ]
    },
    {
      "cell_type": "code",
      "source": [
        "!wandb login"
      ],
      "metadata": {
        "colab": {
          "base_uri": "https://localhost:8080/"
        },
        "id": "7OfhhFzd8a47",
        "outputId": "4e664242-9f50-45e5-949f-0519084f1d50"
      },
      "execution_count": null,
      "outputs": [
        {
          "output_type": "stream",
          "name": "stdout",
          "text": [
            "\u001b[34m\u001b[1mwandb\u001b[0m: Logging into wandb.ai. (Learn how to deploy a W&B server locally: https://wandb.me/wandb-server)\n",
            "\u001b[34m\u001b[1mwandb\u001b[0m: You can find your API key in your browser here: https://wandb.ai/authorize\n",
            "\u001b[34m\u001b[1mwandb\u001b[0m: Paste an API key from your profile and hit enter, or press ctrl+c to quit: \n",
            "\u001b[34m\u001b[1mwandb\u001b[0m: No netrc file found, creating one.\n",
            "\u001b[34m\u001b[1mwandb\u001b[0m: Appending key for api.wandb.ai to your netrc file: /root/.netrc\n",
            "\u001b[34m\u001b[1mwandb\u001b[0m: Currently logged in as: \u001b[33msai-sakunthala\u001b[0m (\u001b[33msai-sakunthala-indian-institute-of-technology-madras\u001b[0m) to \u001b[32mhttps://api.wandb.ai\u001b[0m. Use \u001b[1m`wandb login --relogin`\u001b[0m to force relogin\n"
          ]
        }
      ]
    },
    {
      "cell_type": "code",
      "execution_count": null,
      "metadata": {
        "id": "M3h6nZ382Jmo"
      },
      "outputs": [],
      "source": [
        "from keras.datasets import fashion_mnist\n",
        "import wandb\n",
        "import numpy as np\n",
        "import math\n",
        "import random"
      ]
    },
    {
      "cell_type": "code",
      "source": [
        "wandb.init(\n",
        "    # set the wandb project where this run will be logged\n",
        "    project=\"Fashion-mnist\", name = \"Images\")"
      ],
      "metadata": {
        "colab": {
          "base_uri": "https://localhost:8080/",
          "height": 162
        },
        "id": "XrdilZm-8mPG",
        "outputId": "13c25879-c344-4299-e1f5-64486b9f10cf"
      },
      "execution_count": null,
      "outputs": [
        {
          "output_type": "stream",
          "name": "stderr",
          "text": [
            "\u001b[34m\u001b[1mwandb\u001b[0m: Currently logged in as: \u001b[33msai-sakunthala\u001b[0m (\u001b[33msai-sakunthala-indian-institute-of-technology-madras\u001b[0m) to \u001b[32mhttps://api.wandb.ai\u001b[0m. Use \u001b[1m`wandb login --relogin`\u001b[0m to force relogin\n",
            "\u001b[34m\u001b[1mwandb\u001b[0m: Using wandb-core as the SDK backend.  Please refer to https://wandb.me/wandb-core for more information.\n"
          ]
        },
        {
          "output_type": "display_data",
          "data": {
            "text/plain": [
              "<IPython.core.display.HTML object>"
            ],
            "text/html": [
              "Tracking run with wandb version 0.19.6"
            ]
          },
          "metadata": {}
        },
        {
          "output_type": "display_data",
          "data": {
            "text/plain": [
              "<IPython.core.display.HTML object>"
            ],
            "text/html": [
              "Run data is saved locally in <code>/content/wandb/run-20250222_162139-8o75r7iv</code>"
            ]
          },
          "metadata": {}
        },
        {
          "output_type": "display_data",
          "data": {
            "text/plain": [
              "<IPython.core.display.HTML object>"
            ],
            "text/html": [
              "Syncing run <strong><a href='https://wandb.ai/sai-sakunthala-indian-institute-of-technology-madras/Fashion-mnist/runs/8o75r7iv' target=\"_blank\">Images</a></strong> to <a href='https://wandb.ai/sai-sakunthala-indian-institute-of-technology-madras/Fashion-mnist' target=\"_blank\">Weights & Biases</a> (<a href='https://wandb.me/developer-guide' target=\"_blank\">docs</a>)<br>"
            ]
          },
          "metadata": {}
        },
        {
          "output_type": "display_data",
          "data": {
            "text/plain": [
              "<IPython.core.display.HTML object>"
            ],
            "text/html": [
              " View project at <a href='https://wandb.ai/sai-sakunthala-indian-institute-of-technology-madras/Fashion-mnist' target=\"_blank\">https://wandb.ai/sai-sakunthala-indian-institute-of-technology-madras/Fashion-mnist</a>"
            ]
          },
          "metadata": {}
        },
        {
          "output_type": "display_data",
          "data": {
            "text/plain": [
              "<IPython.core.display.HTML object>"
            ],
            "text/html": [
              " View run at <a href='https://wandb.ai/sai-sakunthala-indian-institute-of-technology-madras/Fashion-mnist/runs/8o75r7iv' target=\"_blank\">https://wandb.ai/sai-sakunthala-indian-institute-of-technology-madras/Fashion-mnist/runs/8o75r7iv</a>"
            ]
          },
          "metadata": {}
        },
        {
          "output_type": "execute_result",
          "data": {
            "text/html": [
              "<button onClick=\"this.nextSibling.style.display='block';this.style.display='none';\">Display W&B run</button><iframe src='https://wandb.ai/sai-sakunthala-indian-institute-of-technology-madras/Fashion-mnist/runs/8o75r7iv?jupyter=true' style='border:none;width:100%;height:420px;display:none;'></iframe>"
            ],
            "text/plain": [
              "<wandb.sdk.wandb_run.Run at 0x7bd89eeeafd0>"
            ]
          },
          "metadata": {},
          "execution_count": 3
        }
      ]
    },
    {
      "cell_type": "code",
      "source": [
        "(x_train, y_train), (x_test, y_test) = fashion_mnist.load_data()\n",
        "class_names = ['Tshirt', 'Trouser', 'Pullover', 'Dress', 'Coat', 'Sandal', 'Shirt', 'Sneaker', 'bag', 'Ankleboot']\n",
        "\n",
        "one_per_label = {}\n",
        "for image,label in zip(x_train,y_train):\n",
        "    if label not in one_per_label:\n",
        "        one_per_label[label] = image"
      ],
      "metadata": {
        "colab": {
          "base_uri": "https://localhost:8080/"
        },
        "id": "Qjo5eR2QdyIn",
        "outputId": "c0a2fa0a-b1f0-4c66-e626-4c25e3c52836"
      },
      "execution_count": null,
      "outputs": [
        {
          "output_type": "stream",
          "name": "stdout",
          "text": [
            "Downloading data from https://storage.googleapis.com/tensorflow/tf-keras-datasets/train-labels-idx1-ubyte.gz\n",
            "\u001b[1m29515/29515\u001b[0m \u001b[32m━━━━━━━━━━━━━━━━━━━━\u001b[0m\u001b[37m\u001b[0m \u001b[1m0s\u001b[0m 0us/step\n",
            "Downloading data from https://storage.googleapis.com/tensorflow/tf-keras-datasets/train-images-idx3-ubyte.gz\n",
            "\u001b[1m26421880/26421880\u001b[0m \u001b[32m━━━━━━━━━━━━━━━━━━━━\u001b[0m\u001b[37m\u001b[0m \u001b[1m0s\u001b[0m 0us/step\n",
            "Downloading data from https://storage.googleapis.com/tensorflow/tf-keras-datasets/t10k-labels-idx1-ubyte.gz\n",
            "\u001b[1m5148/5148\u001b[0m \u001b[32m━━━━━━━━━━━━━━━━━━━━\u001b[0m\u001b[37m\u001b[0m \u001b[1m0s\u001b[0m 0us/step\n",
            "Downloading data from https://storage.googleapis.com/tensorflow/tf-keras-datasets/t10k-images-idx3-ubyte.gz\n",
            "\u001b[1m4422102/4422102\u001b[0m \u001b[32m━━━━━━━━━━━━━━━━━━━━\u001b[0m\u001b[37m\u001b[0m \u001b[1m0s\u001b[0m 0us/step\n"
          ]
        }
      ]
    },
    {
      "cell_type": "code",
      "source": [
        "for label, image in one_per_label.items():\n",
        "    wandb.log({\"Images\": [wandb.Image(image, caption=class_names[label])]})"
      ],
      "metadata": {
        "id": "VlCiVcmL9kCR"
      },
      "execution_count": null,
      "outputs": []
    },
    {
      "cell_type": "code",
      "source": [
        "def input_layer(x):\n",
        "    x = np.array(x)\n",
        "    if len(x.shape) == 3:\n",
        "        a,b,c = x.shape\n",
        "        x = x.reshape(a,b*c)\n",
        "    return x\n",
        "\n",
        "def sigmoid(a_x):\n",
        "    h_x = np.zeros(len(a_x))\n",
        "    for i in range(len(a_x)):\n",
        "        h_x[i] = 1/(1+math.exp(-a_x[i]))\n",
        "    return h_x\n",
        "\n",
        "def der_sigmoid(a_x):\n",
        "    del_sig = np.zeros(len(a_x))\n",
        "    for i in range(len(a_x)):\n",
        "        del_sig[i] = a_x[i]*(1-a_x[i])\n",
        "    return del_sig\n",
        "\n",
        "def Relu(a_x):\n",
        "    h_x = np.zeros(len(a_x))\n",
        "    for i in range(len(a_x)):\n",
        "        h_x[i] = max(0,a_x[i])\n",
        "    return h_x\n",
        "\n",
        "def der_Relu(a_x):\n",
        "    del_Relu = np.zeros(len(a_x))\n",
        "    for i in range(len(a_x)):\n",
        "        if a_x[i] > 0:\n",
        "            del_Relu[i] = a_x[i]\n",
        "        else:\n",
        "            del_Relu[i] = 0\n",
        "    return del_Relu\n",
        "\n",
        "def tanh(a_x):\n",
        "    h_x = np.zeros(len(a_x))\n",
        "    for i in range(len(a_x)):\n",
        "        h_x[i] = (math.exp(a_x[i]) - math.exp(-a_x[i]))/(math.exp(a_x[i]) + math.exp(-a_x[i]))\n",
        "    return h_x\n",
        "\n",
        "def der_tanh(a_x):\n",
        "    del_tanh = np.zeros(len(a_x))\n",
        "    for i in range(len(a_x)):\n",
        "        del_tanh[i] = 1 - [(math.exp(a_x[i]) - math.exp(-a_x[i]))/(math.exp(a_x[i]) + math.exp(-a_x[i]))]**2\n",
        "    return del_tanh\n",
        "\n",
        "def softmax(a_x):\n",
        "    h_x = np.zeros(len(a_x))\n",
        "    for i in range(len(a_x)):\n",
        "        h_x[i] = math.exp(a_x[i])\n",
        "    h_x = h_x/np.sum(h_x)\n",
        "    return h_x\n",
        "\n",
        "def der_softmax(a_x):\n",
        "    del_softmax = np.zeros(len(a_x))\n",
        "    for i in range(len(a_x)):\n",
        "        del_softmax[i] = a_x[i]*(1-a_x[i])\n",
        "\n",
        "def initialize_weights(num_neurons):\n",
        "    weights = []\n",
        "    biases = []\n",
        "    for i in range(len(num_neurons)-1):\n",
        "        W = np.random.randn(num_neurons[i+1], num_neurons[i])\n",
        "        b = np.random.randn(1, num_neurons[i+1])\n",
        "        weights.append(W)\n",
        "        biases.append(b)\n",
        "    return weights, biases\n",
        "\n",
        "def pre_activation(h_x, W, b):\n",
        "    a_x = np.dot(W, h_x.T) + b\n",
        "    a_x = a_x.reshape(len(a_x[0]))\n",
        "    return a_x\n",
        "\n",
        "def loss_function(h_x, y):\n",
        "    idx = np.where(y == 1)\n",
        "    loss = -np.log(h_x[idx])\n",
        "    return loss\n",
        "\n",
        "def forward_pass(x, y, weights, biases, activation_func, n_hidden):\n",
        "    activations = []\n",
        "    pre_activations = []\n",
        "    for i in range(n_hidden+1):\n",
        "        if i == 0:\n",
        "            a_x = pre_activation(x, weights[i], biases[i])\n",
        "            h_x = activation_func(a_x)\n",
        "            activations.append(h_x)\n",
        "            pre_activations.append(a_x)\n",
        "        elif i == n_hidden:\n",
        "            a_x = pre_activation(h_x, weights[i], biases[i])\n",
        "            h_x = softmax(a_x)\n",
        "            activations.append(h_x)\n",
        "            pre_activations.append(a_x)\n",
        "        else:\n",
        "            a_x = pre_activation(h_x, weights[i], biases[i])\n",
        "            h_x = activation_func(a_x)\n",
        "            activations.append(h_x)\n",
        "            pre_activations.append(a_x)\n",
        "    loss = loss_function(h_x, y)\n",
        "    return activations, pre_activations, loss\n",
        "\n",
        "#a,b,_ = forward_pass(np.array([1,1]), np.array([0]), initialize_weights([2,3,3,2])[0], initialize_weights([2,3,3,2])[1], tanh, 2)\n",
        "\n",
        "def one_hot_encode(y, num_classes):\n",
        "    return np.eye(num_classes)[y]\n",
        "\n",
        "def back_propagation(activations, pre_activations, weights, biases, y, y_hat, n_hidden, activation_deriv):\n",
        "    del_L_a = {}\n",
        "    del_L_w = {}\n",
        "    del_L_b = {}\n",
        "    del_L_h = {}\n",
        "    for i in range(n_hidden, -1, -1):\n",
        "        if i == n_hidden:\n",
        "            del_L_a[i] = -(y - y_hat)\n",
        "        del_L_w[i] = np.outer(del_L_a[i], activations[i-1].T)\n",
        "        del_L_b[i] = del_L_a[i]\n",
        "        if i == 0:\n",
        "            break\n",
        "        del_L_h[i-1] = np.matmul(weights[i].T, del_L_a[i])\n",
        "        del_L_a[i-1] = np.multiply(del_L_h[i-1], activation_deriv(pre_activations[i-1]))\n",
        "    return del_L_a, del_L_w, del_L_b, del_L_h\n",
        "\n",
        "def Neuralnet(x_train, y_train, n_hidden, n_neurons_hidden, epochs, batch_size, activation):\n",
        "    x_train = input_layer(x_train)\n",
        "    y_train = one_hot_encode(y_train, len(np.unique(y_train)))\n",
        "    features = x_train.shape[1]\n",
        "    classes = len(np.unique(y_train))\n",
        "    num_neurons = [features] + [n_neurons_hidden]*(n_hidden) + [classes]\n",
        "    weights, biases = initialize_weights(num_neurons)\n",
        "    activation_func = {\"sigmoid\": sigmoid, \"tanh\": tanh, \"relu\": Relu}[activation]\n",
        "    activation_deriv = {\"sigmoid\": der_sigmoid, \"tanh\": der_tanh, \"relu\": der_Relu}[activation]\n",
        "    #epochs\n",
        "    for epoch in range(epochs):\n",
        "        for i in range(0, len(x_train), batch_size):\n",
        "            x_batch = x_train[i:i + batch_size]\n",
        "            y_batch = y_train[i:i + batch_size]\n",
        "            for x,y in zip(x_batch,y_batch):\n",
        "                activations, pre_activations, loss = forward_pass(x, y, weights, biases, activation_func, n_hidden)\n",
        "                del_L_a, del_L_w, del_L_b, del_L_h = back_propagation(activations, pre_activations, weights, biases, y, activations[-1], n_hidden, activation_deriv)\n",
        "                for i in range(n_hidden+1):\n",
        "                    weights[i] = weights[i] - 0.01*del_L_w[i]\n",
        "                    biases[i] = biases[i] - 0.01*del_L_b[i]\n",
        "\n",
        "Neuralnet(np.array([[1,1],[0,0],[1,1],[2,2]]), np.array([0,1,0,1]), 2, 3, 1, 2, 'sigmoid')"
      ],
      "metadata": {
        "id": "mNcj8hC1URDj",
        "colab": {
          "base_uri": "https://localhost:8080/"
        },
        "outputId": "5dc10baa-67ab-4ab0-9d4d-c981b3c31744"
      },
      "execution_count": null,
      "outputs": [
        {
          "output_type": "stream",
          "name": "stdout",
          "text": [
            "{2: array([-0.09890881,  0.09890881]), 1: array([-0.05902469,  0.17605434,  0.06098343]), 0: array([-0.00279959, -0.19490995, -0.05339335])} {2: array([[-0.08741128, -0.02522664, -0.08007166],\n",
            "       [ 0.08741128,  0.02522664,  0.08007166]]), 1: array([[-0.03828897, -0.0068087 , -0.03823348],\n",
            "       [ 0.11420543,  0.02030847,  0.11403991],\n",
            "       [ 0.0395596 ,  0.00703465,  0.03950226]]), 0: array([[-0.00252269, -0.0002769 ],\n",
            "       [-0.17563164, -0.01927831],\n",
            "       [-0.04811228, -0.00528107]])} {2: array([-0.09890881,  0.09890881]), 1: array([-0.05902469,  0.17605434,  0.06098343]), 0: array([-0.00279959, -0.19490995, -0.05339335])} {1: array([ 0.02829171, -0.07927718, -0.0942584 ]), 0: array([-0.01180455,  0.03150151, -0.22426692])}\n",
            "{2: array([ 0.89954396, -0.89954396]), 1: array([ 0.40598421, -1.43678304, -0.24062495]), 0: array([-0.26015801,  0.91846167,  0.43379435])} {2: array([[ 0.77752884,  0.24235187,  0.6958456 ],\n",
            "       [-0.77752884, -0.24235187, -0.6958456 ]]), 1: array([[ 0.14095501,  0.06593431,  0.25370444],\n",
            "       [-0.49884147, -0.23334231, -0.89786308],\n",
            "       [-0.08354338, -0.03907896, -0.15036944]]), 0: array([[-0.23402357, -0.02613444],\n",
            "       [ 0.82619665,  0.09226502],\n",
            "       [ 0.39021709,  0.04357726]])} {2: array([ 0.89954396, -0.89954396]), 1: array([ 0.40598421, -1.43678304, -0.24062495]), 0: array([-0.26015801,  0.91846167,  0.43379435])} {1: array([-0.25730403,  0.72100054,  0.85724997]), 0: array([ 0.25256482, -0.21204458,  1.73593576])}\n",
            "{2: array([-0.09890881,  0.09890881]), 1: array([-0.05902469,  0.17605434,  0.06098343]), 0: array([-0.00279959, -0.19490995, -0.05339335])} {2: array([[-0.08741128, -0.02522664, -0.08007166],\n",
            "       [ 0.08741128,  0.02522664,  0.08007166]]), 1: array([[-0.03828897, -0.0068087 , -0.03823348],\n",
            "       [ 0.11420543,  0.02030847,  0.11403991],\n",
            "       [ 0.0395596 ,  0.00703465,  0.03950226]]), 0: array([[-0.00252269, -0.0002769 ],\n",
            "       [-0.17563164, -0.01927831],\n",
            "       [-0.04811228, -0.00528107]])} {2: array([-0.09890881,  0.09890881]), 1: array([-0.05902469,  0.17605434,  0.06098343]), 0: array([-0.00279959, -0.19490995, -0.05339335])} {1: array([ 0.02829171, -0.07927718, -0.0942584 ]), 0: array([-0.01180455,  0.03150151, -0.22426692])}\n",
            "{2: array([ 0.90190536, -0.90190536]), 1: array([ 0.64390386, -1.7434027 , -0.8293643 ]), 0: array([0.03944688, 2.97751832, 0.47566594])} {2: array([[ 0.80840441,  0.21996526,  0.75068426],\n",
            "       [-0.80840441, -0.21996526, -0.75068426]]), 1: array([[ 0.55701844,  0.05191208,  0.4313767 ],\n",
            "       [-1.50815598, -0.1405546 , -1.16797452],\n",
            "       [-0.71745371, -0.06686405, -0.555624  ]]), 0: array([[0.03557735, 0.00386953],\n",
            "       [2.68543973, 0.29207858],\n",
            "       [0.42900567, 0.04666028]])} {2: array([ 0.90190536, -0.90190536]), 1: array([ 0.64390386, -1.7434027 , -0.8293643 ]), 0: array([0.03944688, 2.97751832, 0.47566594])} {1: array([-0.25797948,  0.72289324,  0.85950034]), 0: array([-0.02474421, -0.3562472 ,  2.30042998])}\n"
          ]
        }
      ]
    },
    {
      "cell_type": "code",
      "source": [
        "print(np.dot(np.array([[1,2]]).T, np.array([[3,4]])))"
      ],
      "metadata": {
        "colab": {
          "base_uri": "https://localhost:8080/"
        },
        "id": "7FbXBEYbhAEW",
        "outputId": "0d0d9963-538c-4f39-9d28-2228bd43ee20"
      },
      "execution_count": null,
      "outputs": [
        {
          "output_type": "stream",
          "name": "stdout",
          "text": [
            "[[3 4]\n",
            " [6 8]]\n"
          ]
        }
      ]
    }
  ]
}