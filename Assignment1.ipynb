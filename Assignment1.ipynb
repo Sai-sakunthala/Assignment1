{
  "nbformat": 4,
  "nbformat_minor": 0,
  "metadata": {
    "colab": {
      "provenance": [],
      "authorship_tag": "ABX9TyPYxWbudiBTyhhX93Ew+502",
      "include_colab_link": true
    },
    "kernelspec": {
      "name": "python3",
      "display_name": "Python 3"
    },
    "language_info": {
      "name": "python"
    }
  },
  "cells": [
    {
      "cell_type": "markdown",
      "metadata": {
        "id": "view-in-github",
        "colab_type": "text"
      },
      "source": [
        "<a href=\"https://colab.research.google.com/github/Sai-sakunthala/Assignment1/blob/main/Assignment1.ipynb\" target=\"_parent\"><img src=\"https://colab.research.google.com/assets/colab-badge.svg\" alt=\"Open In Colab\"/></a>"
      ]
    },
    {
      "cell_type": "code",
      "source": [
        "!wandb login"
      ],
      "metadata": {
        "colab": {
          "base_uri": "https://localhost:8080/"
        },
        "id": "7OfhhFzd8a47",
        "outputId": "6d2a9c2f-ec3f-468f-f16a-0409a5fb3d7f"
      },
      "execution_count": null,
      "outputs": [
        {
          "output_type": "stream",
          "name": "stdout",
          "text": [
            "\u001b[34m\u001b[1mwandb\u001b[0m: Logging into wandb.ai. (Learn how to deploy a W&B server locally: https://wandb.me/wandb-server)\n",
            "\u001b[34m\u001b[1mwandb\u001b[0m: You can find your API key in your browser here: https://wandb.ai/authorize\n",
            "\u001b[34m\u001b[1mwandb\u001b[0m: Paste an API key from your profile and hit enter, or press ctrl+c to quit: \n",
            "\u001b[34m\u001b[1mwandb\u001b[0m: No netrc file found, creating one.\n",
            "\u001b[34m\u001b[1mwandb\u001b[0m: Appending key for api.wandb.ai to your netrc file: /root/.netrc\n",
            "\u001b[34m\u001b[1mwandb\u001b[0m: Currently logged in as: \u001b[33msai-sakunthala\u001b[0m (\u001b[33msai-sakunthala-indian-institute-of-technology-madras\u001b[0m) to \u001b[32mhttps://api.wandb.ai\u001b[0m. Use \u001b[1m`wandb login --relogin`\u001b[0m to force relogin\n"
          ]
        }
      ]
    },
    {
      "cell_type": "code",
      "execution_count": 1,
      "metadata": {
        "id": "M3h6nZ382Jmo"
      },
      "outputs": [],
      "source": [
        "from keras.datasets import fashion_mnist\n",
        "#import wandb\n",
        "import numpy as np\n",
        "import math\n",
        "import random"
      ]
    },
    {
      "cell_type": "code",
      "source": [
        "wandb.init(\n",
        "    # set the wandb project where this run will be logged\n",
        "    project=\"Fashion-mnist\", name = \"Images\")"
      ],
      "metadata": {
        "colab": {
          "base_uri": "https://localhost:8080/",
          "height": 162
        },
        "id": "XrdilZm-8mPG",
        "outputId": "13c25879-c344-4299-e1f5-64486b9f10cf"
      },
      "execution_count": null,
      "outputs": [
        {
          "output_type": "stream",
          "name": "stderr",
          "text": [
            "\u001b[34m\u001b[1mwandb\u001b[0m: Currently logged in as: \u001b[33msai-sakunthala\u001b[0m (\u001b[33msai-sakunthala-indian-institute-of-technology-madras\u001b[0m) to \u001b[32mhttps://api.wandb.ai\u001b[0m. Use \u001b[1m`wandb login --relogin`\u001b[0m to force relogin\n",
            "\u001b[34m\u001b[1mwandb\u001b[0m: Using wandb-core as the SDK backend.  Please refer to https://wandb.me/wandb-core for more information.\n"
          ]
        },
        {
          "output_type": "display_data",
          "data": {
            "text/plain": [
              "<IPython.core.display.HTML object>"
            ],
            "text/html": [
              "Tracking run with wandb version 0.19.6"
            ]
          },
          "metadata": {}
        },
        {
          "output_type": "display_data",
          "data": {
            "text/plain": [
              "<IPython.core.display.HTML object>"
            ],
            "text/html": [
              "Run data is saved locally in <code>/content/wandb/run-20250222_162139-8o75r7iv</code>"
            ]
          },
          "metadata": {}
        },
        {
          "output_type": "display_data",
          "data": {
            "text/plain": [
              "<IPython.core.display.HTML object>"
            ],
            "text/html": [
              "Syncing run <strong><a href='https://wandb.ai/sai-sakunthala-indian-institute-of-technology-madras/Fashion-mnist/runs/8o75r7iv' target=\"_blank\">Images</a></strong> to <a href='https://wandb.ai/sai-sakunthala-indian-institute-of-technology-madras/Fashion-mnist' target=\"_blank\">Weights & Biases</a> (<a href='https://wandb.me/developer-guide' target=\"_blank\">docs</a>)<br>"
            ]
          },
          "metadata": {}
        },
        {
          "output_type": "display_data",
          "data": {
            "text/plain": [
              "<IPython.core.display.HTML object>"
            ],
            "text/html": [
              " View project at <a href='https://wandb.ai/sai-sakunthala-indian-institute-of-technology-madras/Fashion-mnist' target=\"_blank\">https://wandb.ai/sai-sakunthala-indian-institute-of-technology-madras/Fashion-mnist</a>"
            ]
          },
          "metadata": {}
        },
        {
          "output_type": "display_data",
          "data": {
            "text/plain": [
              "<IPython.core.display.HTML object>"
            ],
            "text/html": [
              " View run at <a href='https://wandb.ai/sai-sakunthala-indian-institute-of-technology-madras/Fashion-mnist/runs/8o75r7iv' target=\"_blank\">https://wandb.ai/sai-sakunthala-indian-institute-of-technology-madras/Fashion-mnist/runs/8o75r7iv</a>"
            ]
          },
          "metadata": {}
        },
        {
          "output_type": "execute_result",
          "data": {
            "text/html": [
              "<button onClick=\"this.nextSibling.style.display='block';this.style.display='none';\">Display W&B run</button><iframe src='https://wandb.ai/sai-sakunthala-indian-institute-of-technology-madras/Fashion-mnist/runs/8o75r7iv?jupyter=true' style='border:none;width:100%;height:420px;display:none;'></iframe>"
            ],
            "text/plain": [
              "<wandb.sdk.wandb_run.Run at 0x7bd89eeeafd0>"
            ]
          },
          "metadata": {},
          "execution_count": 3
        }
      ]
    },
    {
      "cell_type": "code",
      "source": [
        "(x_train, y_train), (x_test, y_test) = fashion_mnist.load_data()\n",
        "x_train = x_train/255\n",
        "x_test = x_test/255\n",
        "class_names = ['Tshirt', 'Trouser', 'Pullover', 'Dress', 'Coat', 'Sandal', 'Shirt', 'Sneaker', 'bag', 'Ankleboot']\n",
        "\n",
        "one_per_label = {}\n",
        "for image,label in zip(x_train,y_train):\n",
        "    if label not in one_per_label:\n",
        "        one_per_label[label] = image"
      ],
      "metadata": {
        "id": "Qjo5eR2QdyIn"
      },
      "execution_count": 72,
      "outputs": []
    },
    {
      "cell_type": "code",
      "source": [
        "for label, image in one_per_label.items():\n",
        "    wandb.log({\"Images\": [wandb.Image(image, caption=class_names[label])]})"
      ],
      "metadata": {
        "id": "VlCiVcmL9kCR"
      },
      "execution_count": null,
      "outputs": []
    },
    {
      "cell_type": "code",
      "source": [
        "def input_layer(x):\n",
        "    x = np.array(x)\n",
        "    if len(x.shape) == 3:\n",
        "        x = x.reshape(x.shape[0], -1)\n",
        "    return x\n",
        "\n",
        "def sigmoid(a_x):\n",
        "    a_x = np.clip(a_x, -700, 700)\n",
        "    h_x = 1 / (1 + np.exp(-a_x))\n",
        "    return h_x\n",
        "\n",
        "def der_sigmoid(a_x):\n",
        "    sig_x = sigmoid(a_x)\n",
        "    del_sig = sig_x * (1 - sig_x)\n",
        "    return del_sig\n",
        "\n",
        "def Relu(a_x):\n",
        "    h_x = np.clip(np.maximum(0, a_x), 0, 1e4)\n",
        "    return h_x\n",
        "\n",
        "def der_Relu(a_x):\n",
        "    del_Relu = (a_x > 0).astype(float)\n",
        "    return del_Relu\n",
        "\n",
        "def tanh(a_x):\n",
        "    a_x = np.clip(a_x, -700, 700)\n",
        "    h_x = (np.exp(a_x) - np.exp(-a_x))/(np.exp(a_x) + np.exp(-a_x))\n",
        "    return h_x\n",
        "\n",
        "def der_tanh(a_x):\n",
        "    del_tanh = 1 - ((np.exp(a_x) - np.exp(-a_x))/(np.exp(a_x) + np.exp(-a_x)))**2\n",
        "    return del_tanh\n",
        "\n",
        "def softmax(a_x):\n",
        "    a_x = a_x - np.max(a_x)\n",
        "    h_x = np.exp(a_x)\n",
        "    h_x = h_x/np.sum(h_x)\n",
        "    return h_x\n",
        "\n",
        "def initialize_weights(num_neurons):\n",
        "    np.random.seed(42)\n",
        "    weights = []\n",
        "    biases = []\n",
        "    for i in range(len(num_neurons)-1):\n",
        "        W = np.random.randn(num_neurons[i+1], num_neurons[i])*np.sqrt(1 / num_neurons[i])\n",
        "        b = np.zeros((1, num_neurons[i+1]))\n",
        "        weights.append(W)\n",
        "        biases.append(b)\n",
        "    return weights, biases\n",
        "\n",
        "def pre_activation(h_x, W, b):\n",
        "    a_x = np.dot(W, h_x.T) + b.flatten()\n",
        "    return a_x\n",
        "\n",
        "def bce_loss_function(h_x, y):\n",
        "    h_x = np.clip(h_x, 1e-8, 1.0)\n",
        "    loss = -np.log(h_x[np.argmax(y)])\n",
        "    return loss\n",
        "\n",
        "def mse_loss_function(h_x, y):\n",
        "    loss = np.mean((h_x - y)**2)\n",
        "    return loss\n",
        "\n",
        "def forward_pass(x, y, weights, biases, activation_func, n_hidden, loss_function):\n",
        "    activations = []\n",
        "    pre_activations = []\n",
        "    for i in range(n_hidden+1):\n",
        "        a_x = pre_activation(x if i == 0 else activations[-1], weights[i], biases[i])\n",
        "        h_x = softmax(a_x) if i == n_hidden else activation_func(a_x)\n",
        "        activations.append(h_x)\n",
        "        pre_activations.append(a_x)\n",
        "    loss = loss_function(h_x, y)\n",
        "    return activations, pre_activations, loss\n",
        "\n",
        "#a,b,_ = forward_pass(np.array([1,1]), np.array([0]), initialize_weights([2,3,3,2])[0], initialize_weights([2,3,3,2])[1], tanh, 2)\n",
        "\n",
        "def one_hot_encode(y, num_classes):\n",
        "    return np.eye(num_classes)[y]\n",
        "\n",
        "def back_propagation(activations, pre_activations, weights, biases, x, y, y_hat, n_hidden, activation_deriv, loss_function):\n",
        "    del_L_a = {}\n",
        "    del_L_w = {}\n",
        "    del_L_b = {}\n",
        "    del_L_h = {}\n",
        "    for i in range(n_hidden, -1, -1):\n",
        "        if i == n_hidden:\n",
        "            if loss_function == bce_loss_function:\n",
        "                del_L_a[i] = y_hat - y\n",
        "        if i == 0:\n",
        "            del_L_w[i] = np.dot(del_L_a[i][:, np.newaxis], x[np.newaxis, :])\n",
        "            del_L_b[i] = del_L_a[i]\n",
        "            break\n",
        "        else:\n",
        "            del_L_w[i] = np.dot(del_L_a[i][:, np.newaxis], activations[i-1][np.newaxis, :])\n",
        "        del_L_b[i] = del_L_a[i]\n",
        "        del_L_h[i-1] = np.matmul(weights[i].T, del_L_a[i])\n",
        "        del_L_a[i-1] = del_L_h[i-1]*activation_deriv(pre_activations[i-1])\n",
        "    return del_L_w, del_L_b\n",
        "\n",
        "def gradient_descent(dw, db, weights, biases, learning_rate):\n",
        "    '''\n",
        "    for key in dw:\n",
        "        dw[key] = np.clip(dw[key], -5, 5)'''\n",
        "    for i in range(len(weights)):\n",
        "        weights[i] -= learning_rate*dw[i]\n",
        "        biases[i] -= learning_rate*db[i]\n",
        "    return weights, biases\n",
        "\n",
        "def momentum_gradient(dw, db, weights, biases, learning_rate, beta, prev_u_w, prev_u_b):\n",
        "    u_w = {}\n",
        "    u_b = {}\n",
        "    for i in range(len(weights)):\n",
        "        if prev_u_w == {} and prev_u_b == {}:\n",
        "            u_w[i] = learning_rate*dw[i]\n",
        "            u_b[i] = learning_rate*db[i]\n",
        "        else:\n",
        "            u_w[i] = beta*prev_u_w[i] + learning_rate*dw[i]\n",
        "            u_b[i] = beta*prev_u_b[i] + learning_rate*db[i]\n",
        "        weights[i] = weights[i] - u_w[i]\n",
        "        biases[i] = biases[i] - u_b[i]\n",
        "    prev_u_w = u_w\n",
        "    prev_u_b = u_b\n",
        "    return weights, biases, prev_u_w, prev_u_b\n",
        "\n",
        "def nestrov_gradient(dw, db, weights, biases, learning_rate, beta, prev_u_w, prev_u_b):\n",
        "    u_w = {}\n",
        "    u_b = {}\n",
        "    for i in range(len(weights)):\n",
        "        if prev_u_w == {} and prev_u_b == {}:\n",
        "            u_w[i] = learning_rate*dw[i]\n",
        "            u_b[i] = learning_rate*db[i]\n",
        "        else:\n",
        "            u_w[i] = beta*prev_u_w[i] + learning_rate*dw[i]\n",
        "            u_b[i] = beta*prev_u_b[i] + learning_rate*db[i]\n",
        "        weights[i] = weights[i] - u_w[i]\n",
        "        biases[i] = biases[i] - u_b[i]\n",
        "    prev_u_w = u_w\n",
        "    prev_u_b = u_b\n",
        "    return weights, biases, prev_u_w, prev_u_b\n",
        "\n",
        "def validation(x_val, y_val, weights, biases, activation_func, n_hidden, loss_function):\n",
        "    val_loss_final = 0\n",
        "    y_pred_val = []\n",
        "    y_val_j = []\n",
        "    for j in range(0, len(x_val)):\n",
        "        x_val_each = x_val[j]\n",
        "        y_val_each = y_val[j]\n",
        "        activ, _,val_loss = forward_pass(x_val_each, y_val_each, weights, biases, activation_func, n_hidden, loss_function)\n",
        "        a_1 = activ[-1]\n",
        "        y_pred_val.append(np.argmax(a_1))\n",
        "        y_val_j.append(np.argmax(y_val[j]))\n",
        "        val_loss_final = val_loss_final + val_loss\n",
        "    accuracy = np.mean(np.array(y_pred_val) == np.array(y_val_j))\n",
        "    print(\"Validation Loss: \", val_loss_final)\n",
        "    print(\"Validation Accuracy: \", accuracy)\n",
        "\n",
        "def Neuralnet(x_train, y_train, n_hidden, n_neurons_hidden, epochs, batch_size, activation, optimization, learning_rate, weight_decay, loss_function):\n",
        "    x_train = input_layer(x_train)\n",
        "    classes = len(np.unique(y_train))\n",
        "    y_train = one_hot_encode(y_train, classes)\n",
        "    features = x_train.shape[1]\n",
        "    split_index = int(0.9 * x_train.shape[0])\n",
        "    indices = np.random.permutation(len(x_train))\n",
        "    x_train, y_train = x_train[indices], y_train[indices]\n",
        "    x_train_final, x_val = x_train[:split_index], x_train[split_index:]\n",
        "    y_train_final, y_val = y_train[:split_index], y_train[split_index:]\n",
        "    num_neurons = [features] + [n_neurons_hidden]*(n_hidden) + [classes]\n",
        "    weights, biases = initialize_weights(num_neurons)\n",
        "    activation_func = {\"sigmoid\": sigmoid, \"tanh\": tanh, \"relu\": Relu}[activation]\n",
        "    activation_deriv = {\"sigmoid\": der_sigmoid, \"tanh\": der_tanh, \"relu\": der_Relu}[activation]\n",
        "    optimization_func = {\"momentum\": momentum_gradient, \"sgd\": gradient_descent, \"nestrov\": nestrov_gradient}[optimization]\n",
        "    loss_function = {\"bce\": bce_loss_function, 'mse': mse_loss_function}[loss_function]\n",
        "\n",
        "    if optimization_func == gradient_descent:\n",
        "        for epoch in range(epochs):\n",
        "            epoch_loss = 0\n",
        "            for i in range(0, len(x_train), batch_size):\n",
        "                x_batch = x_train[i:i + batch_size]\n",
        "                y_batch = y_train[i:i + batch_size]\n",
        "                dw = {}\n",
        "                db = {}\n",
        "                for x,y in zip(x_batch,y_batch):\n",
        "                    activations, pre_activations, loss = forward_pass(x, y, weights, biases, activation_func, n_hidden, loss_function)\n",
        "                    epoch_loss += loss\n",
        "                    del_L_w, del_L_b = back_propagation(activations, pre_activations, weights, biases, x, y, activations[-1], n_hidden, activation_deriv, loss_function)\n",
        "                    for key,value in del_L_w.items():\n",
        "                        if key not in dw:\n",
        "                            dw[key] = value\n",
        "                        else:\n",
        "                            dw[key] = dw[key] + value\n",
        "                    for key,value in del_L_b.items():\n",
        "                        if key not in db:\n",
        "                            db[key] = value\n",
        "                        else:\n",
        "                            db[key] = db[key] + value\n",
        "                for key in dw:\n",
        "                    dw[key] /= batch_size\n",
        "                    db[key] /= batch_size\n",
        "                weights, biases = optimization_func(dw, db, weights, biases, learning_rate)\n",
        "            epoch_loss /= len(x_train)\n",
        "            print('epoch:', epoch, 'training loss:', epoch_loss)\n",
        "            validation(x_val, y_val, weights, biases, activation_func, n_hidden, loss_function)\n",
        "            print('')\n",
        "\n",
        "    elif optimization_func == momentum_gradient:\n",
        "        prev_u_w = {}\n",
        "        prev_u_b = {}\n",
        "        for epoch in range(epochs):\n",
        "            for i in range(0, len(x_train), batch_size):\n",
        "                x_batch = x_train[i:i + batch_size]\n",
        "                y_batch = y_train[i:i + batch_size]\n",
        "                dw = {}\n",
        "                db = {}\n",
        "                for x,y in zip(x_batch,y_batch):\n",
        "                    activations, pre_activations, loss = forward_pass(x, y, weights, biases, activation_func, n_hidden, loss_function)\n",
        "                    del_L_w, del_L_b = back_propagation(activations, pre_activations, weights, biases, x, y, activations[-1], n_hidden, activation_deriv, loss_function)\n",
        "                    for key,value in del_L_w.items():\n",
        "                        if key not in dw:\n",
        "                            dw[key] = value\n",
        "                        else:\n",
        "                            dw[key] = dw[key] + value\n",
        "                    for key,value in del_L_b.items():\n",
        "                        if key not in db:\n",
        "                            db[key] = value\n",
        "                        else:\n",
        "                            db[key] = db[key] + value\n",
        "                weights, biases, prev_u_w, prev_u_b = optimization_func(dw, db, weights, biases, learning_rate, weight_decay, prev_u_w, prev_u_b)\n",
        "    elif optimization_func == nestrov_gradient:\n",
        "        prev_u_w = {}\n",
        "        prev_u_b = {}\n",
        "        for epoch in range(epochs):\n",
        "            for i in range(0, len(x_train), batch_size):\n",
        "                x_batch = x_train[i:i + batch_size]\n",
        "                y_batch = y_train[i:i + batch_size]\n",
        "                dw = {}\n",
        "                db = {}\n",
        "                for x,y in zip(x_batch,y_batch):\n",
        "                    activations, pre_activations, loss = forward_pass(x, y, weights, biases, activation_func, n_hidden, loss_function)\n",
        "                    if i == 0:\n",
        "                        del_L_w, del_L_b = back_propagation(activations, pre_activations, weights, biases, x, y, activations[-1], n_hidden, activation_deriv, loss_function)\n",
        "                    else:\n",
        "                        look_ahead_weights = {key: weights[key] - weight_decay*prev_u_w[key] for key in range(len(weights))}\n",
        "                        look_ahead_biases = {key: biases[key] - weight_decay*prev_u_b[key] for key in range(len(weights))}\n",
        "                        del_L_w, del_L_b = back_propagation(activations, pre_activations, look_ahead_weights, look_ahead_biases, y, activations[-1], n_hidden, activation_deriv, loss_function)\n",
        "                    for key,value in del_L_w.items():\n",
        "                        if key not in dw:\n",
        "                            dw[key] = value\n",
        "                        else:\n",
        "                            dw[key] = dw[key] + value\n",
        "                    for key,value in del_L_b.items():\n",
        "                        if key not in db:\n",
        "                            db[key] = value\n",
        "                        else:\n",
        "                            db[key] = db[key] + value\n",
        "                weights, biases, prev_u_w, prev_u_b = optimization_func(dw, db, weights, biases, learning_rate, weight_decay, prev_u_w, prev_u_b)\n",
        "\n",
        "Neuralnet(x_train, y_train, 3, 64, 15, 128, 'sigmoid', 'sgd', 0.1, 0.9, 'bce')\n",
        "\n",
        "#Neuralnet(np.array([[1,1],[2,2],[3,3],[0,0]]), np.array([0,1,1,0]), 3, 100, 5000, 2, 'sigmoid', 'sgd', 0.1, 0.9, 'bce')"
      ],
      "metadata": {
        "id": "mNcj8hC1URDj",
        "colab": {
          "base_uri": "https://localhost:8080/"
        },
        "outputId": "4a078e73-04c7-45ba-d2bf-2e15d0a9e174"
      },
      "execution_count": 73,
      "outputs": [
        {
          "output_type": "stream",
          "name": "stdout",
          "text": [
            "epoch: 0 training loss: 2.282242149931839\n",
            "Validation Loss:  13281.283955021187\n",
            "Validation Accuracy:  0.31683333333333336\n",
            "\n",
            "epoch: 1 training loss: 1.788281852175081\n",
            "Validation Loss:  8563.132947909868\n",
            "Validation Accuracy:  0.5183333333333333\n",
            "\n",
            "epoch: 2 training loss: 1.2445182555443361\n",
            "Validation Loss:  6537.825069818697\n",
            "Validation Accuracy:  0.6311666666666667\n",
            "\n",
            "epoch: 3 training loss: 0.9907647841725996\n",
            "Validation Loss:  5320.3165620551845\n",
            "Validation Accuracy:  0.6736666666666666\n",
            "\n",
            "epoch: 4 training loss: 0.8375897208844385\n",
            "Validation Loss:  4677.95313778669\n",
            "Validation Accuracy:  0.7081666666666667\n",
            "\n",
            "epoch: 5 training loss: 0.752554625982571\n",
            "Validation Loss:  4274.072530926773\n",
            "Validation Accuracy:  0.7336666666666667\n",
            "\n",
            "epoch: 6 training loss: 0.6939109031448687\n",
            "Validation Loss:  3962.1114374670906\n",
            "Validation Accuracy:  0.7596666666666667\n",
            "\n",
            "epoch: 7 training loss: 0.6477139371837154\n",
            "Validation Loss:  3710.0032629744355\n",
            "Validation Accuracy:  0.7756666666666666\n",
            "\n",
            "epoch: 8 training loss: 0.6106047819206296\n",
            "Validation Loss:  3504.6387612390686\n",
            "Validation Accuracy:  0.7896666666666666\n",
            "\n",
            "epoch: 9 training loss: 0.5799957705047931\n",
            "Validation Loss:  3333.2873680579128\n",
            "Validation Accuracy:  0.7978333333333333\n",
            "\n",
            "epoch: 10 training loss: 0.5538644976465935\n",
            "Validation Loss:  3185.2663192044893\n",
            "Validation Accuracy:  0.808\n",
            "\n",
            "epoch: 11 training loss: 0.5307642110237257\n",
            "Validation Loss:  3054.7645412683564\n",
            "Validation Accuracy:  0.8188333333333333\n",
            "\n",
            "epoch: 12 training loss: 0.5098865820425237\n",
            "Validation Loss:  2937.5266054074928\n",
            "Validation Accuracy:  0.827\n",
            "\n",
            "epoch: 13 training loss: 0.4908393620232754\n",
            "Validation Loss:  2830.5906346544443\n",
            "Validation Accuracy:  0.8346666666666667\n",
            "\n",
            "epoch: 14 training loss: 0.47366458293360253\n",
            "Validation Loss:  2732.9255132137046\n",
            "Validation Accuracy:  0.8391666666666666\n",
            "\n"
          ]
        }
      ]
    }
  ]
}